{
 "cells": [
  {
   "cell_type": "markdown",
   "metadata": {},
   "source": [
    "# Wykład 1, zadania dodatkowe\n",
    "## Michał Foryt (nr 84172)\n",
    "### Zadanie 1\n",
    "*Przepisz zaprezentowaną powyżej implementacje klasycznej metody najmniejszych kwadratów na języki Python i R. Porównaj czasy rozwiązania problemu.*\n",
    "\n",
    "Przypomnijmy, że wykonując poniższą linijkę w Julii otrzymaliśmy wynik około 0.00017 sekund.   "
   ]
  },
  {
   "cell_type": "code",
   "execution_count": null,
   "metadata": {},
   "outputs": [],
   "source": [
    "@time θ = least_squares(Matrix(X'),Array(y'))"
   ]
  },
  {
   "cell_type": "markdown",
   "metadata": {},
   "source": [
    "Następnie na zadanym zbiorze danych uruchomiłem kod napisany w języku Python. "
   ]
  },
  {
   "cell_type": "code",
   "execution_count": 6,
   "metadata": {},
   "outputs": [
    {
     "name": "stdout",
     "output_type": "stream",
     "text": [
      "Time difference of 0.00795 secs\n"
     ]
    }
   ],
   "source": [
    "import numpy as np\n",
    "import time\n",
    "\n",
    "def main():\n",
    "    x = []\n",
    "    y = []\n",
    "    housing_data = open('housing_data.txt', 'r').readlines()\n",
    "    for line in housing_data:\n",
    "        line_values = line.strip().split()\n",
    "        x.append(line_values[0:13])\n",
    "        y.append(line_values[13])\n",
    "    \n",
    "    y = np.asarray(y, dtype='float64')\n",
    "    x = np.asmatrix(np.asarray(x, dtype='float64'))\n",
    "    Y_t = np.asmatrix(y).T\n",
    "    calculated = np.linalg.inv(x.T*x)*x.T*Y_t\n",
    "\n",
    "start_time = time.time()\n",
    "main()\n",
    "print(\"Time difference of\", round((time.time() - start_time), 5), 'secs')"
   ]
  },
  {
   "cell_type": "markdown",
   "metadata": {},
   "source": [
    "Otrzymany wynik jest o rząd wielkości gorszy, niż rezultat uzyskany w Julii.  "
   ]
  },
  {
   "cell_type": "code",
   "execution_count": 15,
   "metadata": {},
   "outputs": [
    {
     "data": {
      "text/plain": [
       "Time difference of 0.01913 secs"
      ]
     },
     "metadata": {},
     "output_type": "display_data"
    }
   ],
   "source": [
    "start <- Sys.time()\n",
    "housing_data <- read.table(\"housing_data.txt\")\n",
    "Y <- housing_data[,14, drop=FALSE]\n",
    "x <- housing_data[,0:13, drop=FALSE]\n",
    "\n",
    "calculated <- (t(x)*x)^(-1)*t(x)*t(Y)\n",
    "end <- Sys.time()\n",
    "round(end-start, 5)"
   ]
  },
  {
   "cell_type": "markdown",
   "metadata": {},
   "source": [
    "Wynik w języku R jest jeszcze gorszy - tym razem otrzymany rezultat jest o rząd gorszy od tego w Pythonie, a o około 100 razy gorszy niż w Julii.   "
   ]
  }
 ],
 "metadata": {
  "kernelspec": {
   "display_name": "Python 3",
   "language": "python",
   "name": "python3"
  },
  "language_info": {
   "codemirror_mode": {
    "name": "ipython",
    "version": 3
   },
   "file_extension": ".py",
   "mimetype": "text/x-python",
   "name": "python",
   "nbconvert_exporter": "python",
   "pygments_lexer": "ipython3",
   "version": "3.7.4"
  }
 },
 "nbformat": 4,
 "nbformat_minor": 2
}
